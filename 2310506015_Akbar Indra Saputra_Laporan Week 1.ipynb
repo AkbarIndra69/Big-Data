{
 "cells": [
  {
   "cell_type": "markdown",
   "id": "10c25d6f",
   "metadata": {
    "id": "10c25d6f"
   },
   "source": [
    "# Hands-On Pertemuan 1: Pengenalan Big Data dan Overview Teknologi"
   ]
  },
  {
   "cell_type": "markdown",
   "id": "6055a6e2",
   "metadata": {},
   "source": [
    "Nama   : Akbar Indra Saputra\n",
    "NPM    : 2310506015\n",
    "Rombel : 1"
   ]
  },
  {
   "cell_type": "markdown",
   "id": "7117dfdb",
   "metadata": {
    "id": "7117dfdb"
   },
   "source": [
    "## Tujuan\n",
    "Pada akhir praktikum ini, mahasiswa diharapkan mampu:\n",
    "1. Memahami konsep dasar Big Data.\n",
    "2. Menjelaskan karakteristik dan tantangan Big Data (Volume, Variety, Velocity, dan Veracity).\n",
    "3. Mengenal teknologi yang digunakan dalam ekosistem Big Data.\n",
    "4. Menginstal dan mengonfigurasi Anaconda untuk bekerja dengan alat Big Data seperti Hadoop dan Spark.\n",
    "5. Memulai praktik sederhana terkait pengolahan data menggunakan PySpark dan Pandas."
   ]
  },
  {
   "cell_type": "markdown",
   "id": "7e805141",
   "metadata": {
    "id": "7e805141"
   },
   "source": [
    "## Peralatan yang Dibutuhkan\n",
    "1. Anaconda (untuk manajemen lingkungan)\n",
    "2. Jupyter Notebook (bawaan dari Anaconda)\n",
    "3. PySpark (untuk pemrosesan data skala besar)\n",
    "4. Pandas (untuk data analysis)\n",
    "5. Python (bawaan dari Anaconda)"
   ]
  },
  {
   "cell_type": "markdown",
   "id": "8daa78a0",
   "metadata": {
    "id": "8daa78a0"
   },
   "source": [
    "## Langkah-Langkah Hands-On"
   ]
  },
  {
   "cell_type": "markdown",
   "id": "23b963c0",
   "metadata": {
    "id": "23b963c0"
   },
   "source": [
    "### 1. Instalasi Anaconda\n",
    "- **Langkah 1: Unduh dan Instal Anaconda**\n",
    "  Anaconda adalah platform distribusi Python yang menyertakan berbagai alat pengembangan, termasuk Jupyter Notebook. Ikuti langkah-langkah instalasi sesuai sistem operasi:\n",
    "  - Unduh Anaconda: [Download Anaconda](https://www.anaconda.com/products/individual)\n",
    "  - Instal sesuai instruksi yang ada di situs web tersebut (Windows/Mac/Linux).\n",
    "\n",
    "- **Langkah 2: Menginstal PySpark di Anaconda**\n",
    "  Setelah Anaconda terinstal, tambahkan PySpark:\n",
    "  ```bash\n",
    "  pip install pyspark==3.4.1\n",
    "  ```\n",
    "\n",
    "- **Langkah 3: Menginstal Pandas**\n",
    "  Untuk memudahkan data analysis, install Pandas:\n",
    "  ```bash\n",
    "  pip install pandas\n",
    "  ```\n",
    "\n",
    "- **Langkah 4: Menginstal Findspark**\n",
    "  ```bash\n",
    "  pip install findspark\n",
    "  ```"
   ]
  },
  {
   "cell_type": "markdown",
   "id": "f2f54177",
   "metadata": {},
   "source": [
    "Untuk instalasi pyspark, pandas, findspark dapat menggunakan cmd dengan perintah seperti pada di atas"
   ]
  },
  {
   "cell_type": "markdown",
   "id": "208f1a45",
   "metadata": {
    "id": "208f1a45"
   },
   "source": [
    "### 2. Pengenalan dan Praktik Dasar PySpark dan Pandas\n",
    "- **Langkah 1: Membuka Jupyter Notebook**\n",
    "  Setelah instalasi selesai, buka Jupyter Notebook melalui Anaconda Navigator atau melalui terminal dengan perintah:\n",
    "  ```bash\n",
    "  jupyter notebook\n",
    "  ```\n",
    "\n",
    "- **Langkah 2: Membuat Project Notebook Baru**\n",
    "  Di Jupyter Notebook, buat notebook baru untuk praktikum ini.\n",
    "\n",
    "- **Langkah 3: Praktik dengan PySpark**\n",
    "  Buat program sederhana untuk memulai dengan PySpark. Gunakan PySpark untuk membuat DataFrame dan memanipulasi data sederhana:"
   ]
  },
  {
   "cell_type": "code",
   "execution_count": 1,
   "id": "KERSZShIH_aN",
   "metadata": {
    "id": "KERSZShIH_aN"
   },
   "outputs": [],
   "source": [
    "import findspark\n",
    "findspark.init()\n",
    "\n",
    "#import findspark untuk menambahkan direktori instalasi Apache Spark ke jalur pencarian Python agar pyspark dapat diimpor. \n",
    "#Perintah findspark.init() melakukan inisialisasi otomatis."
   ]
  },
  {
   "cell_type": "code",
   "execution_count": 2,
   "id": "f78a5053",
   "metadata": {
    "id": "f78a5053"
   },
   "outputs": [
    {
     "name": "stdout",
     "output_type": "stream",
     "text": [
      "+-----+----+\n",
      "| Nama|Usia|\n",
      "+-----+----+\n",
      "|  Ali|  34|\n",
      "| Budi|  23|\n",
      "|Citra|  29|\n",
      "| Dina|  45|\n",
      "+-----+----+\n",
      "\n"
     ]
    }
   ],
   "source": [
    "from pyspark.sql import SparkSession\n",
    "\n",
    "# Memulai Spark session\n",
    "spark = SparkSession.builder.appName(\"BigDataPractice\").getOrCreate()\n",
    "\n",
    "# Membuat DataFrame sederhana\n",
    "data = [(\"Ali\", 34), (\"Budi\", 23), (\"Citra\", 29), (\"Dina\", 45)]\n",
    "columns = [\"Nama\", \"Usia\"]\n",
    "df = spark.createDataFrame(data, columns)\n",
    "\n",
    "# Menampilkan DataFrame\n",
    "df.show()\n",
    "\n",
    "#Kode tersebut membuat Spark dan kemudian mengubah data berupa daftar nama dan usia menjadi DataFrame. \n",
    "#DataFrame ini kemudian ditampilkan sebagai tabel yang menunjukkan nama dan usia masing-masing orang.\n"
   ]
  },
  {
   "cell_type": "code",
   "execution_count": 4,
   "id": "8a546597-ff5b-423a-aa57-464ee9dca86a",
   "metadata": {},
   "outputs": [
    {
     "name": "stdout",
     "output_type": "stream",
     "text": [
      "+-----+----+-------------+----------------+------+\n",
      "| Nama|Usia|    Pekerjaan|            Hobi|Gender|\n",
      "+-----+----+-------------+----------------+------+\n",
      "|  Ali|  34|Tukang Parkir|           Masak|  Pria|\n",
      "| Budi|  23| Supir Angkot|        Bermusik|  Pria|\n",
      "|Citra|  29|         Chef|      Menggambar|Wanita|\n",
      "| Dina|  45|       Dokter|Memelihara Hewan|Wanita|\n",
      "+-----+----+-------------+----------------+------+\n",
      "\n"
     ]
    }
   ],
   "source": [
    "from pyspark.sql import SparkSession\n",
    "\n",
    "# Memulai Spark session\n",
    "spark = SparkSession.builder.appName(\"BigDataPractice\").getOrCreate()\n",
    "\n",
    "# Membuat DataFrame sederhana\n",
    "data = [(\"Ali\", 34, \"Tukang Parkir\", \"Masak\", \"Pria\"), (\"Budi\", 23, \"Supir Angkot\", \"Bermusik\", \"Pria\"), \n",
    "        (\"Citra\", 29, \"Chef\", \"Menggambar\", \"Wanita\"), (\"Dina\", 45, \"Dokter\", \"Memelihara Hewan\", \"Wanita\")]\n",
    "columns = [\"Nama\", \"Usia\",\"Pekerjaan\",\"Hobi\",\"Gender\"]\n",
    "df = spark.createDataFrame(data, columns)\n",
    "\n",
    "# Menampilkan DataFrame\n",
    "df.show()\n",
    "\n",
    "#Kode tersebut memulai Spark dan membuat DataFrame yang berisi data tentang beberapa orang, dengan kolom nama, usia, pekerjaan, hobi, dan gender. \n",
    "#Data ini diatur dalam tabel dengan kolom-kolom yang sesuai. \n",
    "#DataFrame ditampilkan dalam bentuk tabel untuk melihat informasi setiap orang.\n"
   ]
  },
  {
   "cell_type": "markdown",
   "id": "8747276f",
   "metadata": {
    "id": "8747276f"
   },
   "source": [
    "- **Tugas 1**: Jalankan kode di atas dan buat modifikasi dengan menambahkan data lain berupa kolom pekerjaan, hobi dan gender."
   ]
  },
  {
   "cell_type": "markdown",
   "id": "1f84a333",
   "metadata": {
    "id": "1f84a333"
   },
   "source": [
    "### 3. Praktik PySpark Lanjutan\n",
    "- **Latihan 1**: Memanipulasi Data dengan PySpark."
   ]
  },
  {
   "cell_type": "code",
   "execution_count": 5,
   "id": "1f391ed5",
   "metadata": {
    "id": "1f391ed5"
   },
   "outputs": [
    {
     "name": "stdout",
     "output_type": "stream",
     "text": [
      "+-----+----+\n",
      "| Nama|Usia|\n",
      "+-----+----+\n",
      "|  Ali|  34|\n",
      "| Budi|  23|\n",
      "|Citra|  29|\n",
      "| Dina|  45|\n",
      "+-----+----+\n",
      "\n",
      "+-----+----+\n",
      "| Nama|Usia|\n",
      "+-----+----+\n",
      "| Budi|  23|\n",
      "|Citra|  29|\n",
      "+-----+----+\n",
      "\n",
      "+---------+\n",
      "|avg(Usia)|\n",
      "+---------+\n",
      "|    32.75|\n",
      "+---------+\n",
      "\n",
      "+-----+----+\n",
      "| Nama|Usia|\n",
      "+-----+----+\n",
      "| Dina|  45|\n",
      "|  Ali|  34|\n",
      "|Citra|  29|\n",
      "| Budi|  23|\n",
      "+-----+----+\n",
      "\n"
     ]
    }
   ],
   "source": [
    "from pyspark.sql import SparkSession\n",
    "\n",
    "# Memulai Spark session\n",
    "spark = SparkSession.builder.appName(\"BigDataPractice\").getOrCreate()\n",
    "\n",
    "# Membuat DataFrame sederhana\n",
    "data = [(\"Ali\", 34), (\"Budi\", 23), (\"Citra\", 29), (\"Dina\", 45)]\n",
    "columns = [\"Nama\", \"Usia\"]\n",
    "df = spark.createDataFrame(data, columns)\n",
    "\n",
    "# Menampilkan DataFrame\n",
    "df.show()\n",
    "\n",
    "# Filtering data\n",
    "df_filtered = df.filter(df['Usia'] < 30)\n",
    "df_filtered.show()\n",
    "\n",
    "# Menghitung rata-rata usia\n",
    "from pyspark.sql.functions import avg\n",
    "df.groupBy().agg(avg(\"Usia\")).show()\n",
    "\n",
    "# Mengurutkan data berdasarkan usia\n",
    "df_sorted = df.orderBy(\"Usia\", ascending=False)\n",
    "df_sorted.show()\n",
    "\n",
    "\n",
    "#Kode tersebut memulai Spark dan membuat DataFrame dengan data nama dan usia beberapa orang, lalu menampilkannya. \n",
    "#Data difilter untuk menampilkan orang-orang yang usianya kurang dari 30 tahun. \n",
    "#Menghitung rata-rata usia dari seluruh data. \n",
    "#Data diurutkan berdasarkan usia secara menurun dan ditampilkan kembali."
   ]
  },
  {
   "cell_type": "markdown",
   "id": "e06767bc",
   "metadata": {
    "id": "e06767bc"
   },
   "source": [
    "- **Tugas 2**: Lakukan filter, penghitungan rata-rata, dan pengurutan data menggunakan PySpark."
   ]
  },
  {
   "cell_type": "markdown",
   "id": "fe1e34a5",
   "metadata": {
    "id": "fe1e34a5"
   },
   "source": [
    "### 4. Praktik dengan Pandas\n",
    "- **Latihan 2**:  Buat DataFrame menggunakan Pandas:"
   ]
  },
  {
   "cell_type": "code",
   "execution_count": 6,
   "id": "3f1f2ec1",
   "metadata": {
    "id": "3f1f2ec1"
   },
   "outputs": [
    {
     "data": {
      "text/html": [
       "<div>\n",
       "<style scoped>\n",
       "    .dataframe tbody tr th:only-of-type {\n",
       "        vertical-align: middle;\n",
       "    }\n",
       "\n",
       "    .dataframe tbody tr th {\n",
       "        vertical-align: top;\n",
       "    }\n",
       "\n",
       "    .dataframe thead th {\n",
       "        text-align: right;\n",
       "    }\n",
       "</style>\n",
       "<table border=\"1\" class=\"dataframe\">\n",
       "  <thead>\n",
       "    <tr style=\"text-align: right;\">\n",
       "      <th></th>\n",
       "      <th>Nama</th>\n",
       "      <th>Usia</th>\n",
       "    </tr>\n",
       "  </thead>\n",
       "  <tbody>\n",
       "    <tr>\n",
       "      <th>0</th>\n",
       "      <td>Ali</td>\n",
       "      <td>34</td>\n",
       "    </tr>\n",
       "    <tr>\n",
       "      <th>1</th>\n",
       "      <td>Budi</td>\n",
       "      <td>23</td>\n",
       "    </tr>\n",
       "    <tr>\n",
       "      <th>2</th>\n",
       "      <td>Citra</td>\n",
       "      <td>29</td>\n",
       "    </tr>\n",
       "    <tr>\n",
       "      <th>3</th>\n",
       "      <td>Dina</td>\n",
       "      <td>45</td>\n",
       "    </tr>\n",
       "  </tbody>\n",
       "</table>\n",
       "</div>"
      ],
      "text/plain": [
       "    Nama  Usia\n",
       "0    Ali    34\n",
       "1   Budi    23\n",
       "2  Citra    29\n",
       "3   Dina    45"
      ]
     },
     "execution_count": 6,
     "metadata": {},
     "output_type": "execute_result"
    }
   ],
   "source": [
    "import pandas as pd\n",
    "\n",
    "# Membuat DataFrame Pandas\n",
    "data_pandas = {\"Nama\": [\"Ali\", \"Budi\", \"Citra\", \"Dina\"], \"Usia\": [34, 23, 29, 45]}\n",
    "df_pandas = pd.DataFrame(data_pandas)\n",
    "\n",
    "# Menampilkan DataFrame Pandas\n",
    "df_pandas\n",
    "\n",
    "#Kode tersebut membuat sebuah DataFrame menggunakan Pandas, yang berisi data nama dan usia beberapa orang. \n",
    "#DataFrame ini kemudian ditampilkan untuk melihat daata yang telah dimasukkan."
   ]
  },
  {
   "cell_type": "code",
   "execution_count": 7,
   "id": "7efe3d0e-5490-4e99-999e-3503ce97c618",
   "metadata": {},
   "outputs": [
    {
     "data": {
      "text/html": [
       "<div>\n",
       "<style scoped>\n",
       "    .dataframe tbody tr th:only-of-type {\n",
       "        vertical-align: middle;\n",
       "    }\n",
       "\n",
       "    .dataframe tbody tr th {\n",
       "        vertical-align: top;\n",
       "    }\n",
       "\n",
       "    .dataframe thead th {\n",
       "        text-align: right;\n",
       "    }\n",
       "</style>\n",
       "<table border=\"1\" class=\"dataframe\">\n",
       "  <thead>\n",
       "    <tr style=\"text-align: right;\">\n",
       "      <th></th>\n",
       "      <th>Nama</th>\n",
       "      <th>Usia</th>\n",
       "      <th>Pekerjaan</th>\n",
       "    </tr>\n",
       "  </thead>\n",
       "  <tbody>\n",
       "    <tr>\n",
       "      <th>0</th>\n",
       "      <td>Ali</td>\n",
       "      <td>34</td>\n",
       "      <td>Tukang Parkir</td>\n",
       "    </tr>\n",
       "    <tr>\n",
       "      <th>1</th>\n",
       "      <td>Budi</td>\n",
       "      <td>23</td>\n",
       "      <td>Supir Angkot</td>\n",
       "    </tr>\n",
       "    <tr>\n",
       "      <th>2</th>\n",
       "      <td>Citra</td>\n",
       "      <td>29</td>\n",
       "      <td>Chef</td>\n",
       "    </tr>\n",
       "    <tr>\n",
       "      <th>3</th>\n",
       "      <td>Dina</td>\n",
       "      <td>45</td>\n",
       "      <td>Dokter</td>\n",
       "    </tr>\n",
       "  </tbody>\n",
       "</table>\n",
       "</div>"
      ],
      "text/plain": [
       "    Nama  Usia      Pekerjaan\n",
       "0    Ali    34  Tukang Parkir\n",
       "1   Budi    23   Supir Angkot\n",
       "2  Citra    29           Chef\n",
       "3   Dina    45         Dokter"
      ]
     },
     "metadata": {},
     "output_type": "display_data"
    },
    {
     "data": {
      "text/html": [
       "<div>\n",
       "<style scoped>\n",
       "    .dataframe tbody tr th:only-of-type {\n",
       "        vertical-align: middle;\n",
       "    }\n",
       "\n",
       "    .dataframe tbody tr th {\n",
       "        vertical-align: top;\n",
       "    }\n",
       "\n",
       "    .dataframe thead th {\n",
       "        text-align: right;\n",
       "    }\n",
       "</style>\n",
       "<table border=\"1\" class=\"dataframe\">\n",
       "  <thead>\n",
       "    <tr style=\"text-align: right;\">\n",
       "      <th></th>\n",
       "      <th>Nama</th>\n",
       "      <th>Usia</th>\n",
       "      <th>Pekerjaan</th>\n",
       "    </tr>\n",
       "  </thead>\n",
       "  <tbody>\n",
       "    <tr>\n",
       "      <th>0</th>\n",
       "      <td>Ali</td>\n",
       "      <td>34</td>\n",
       "      <td>Tukang Parkir</td>\n",
       "    </tr>\n",
       "    <tr>\n",
       "      <th>3</th>\n",
       "      <td>Dina</td>\n",
       "      <td>45</td>\n",
       "      <td>Dokter</td>\n",
       "    </tr>\n",
       "  </tbody>\n",
       "</table>\n",
       "</div>"
      ],
      "text/plain": [
       "   Nama  Usia      Pekerjaan\n",
       "0   Ali    34  Tukang Parkir\n",
       "3  Dina    45         Dokter"
      ]
     },
     "metadata": {},
     "output_type": "display_data"
    }
   ],
   "source": [
    "import pandas as pd\n",
    "\n",
    "# Membuat DataFrame Pandas\n",
    "data_pandas = {\"Nama\": [\"Ali\", \"Budi\", \"Citra\", \"Dina\"], \"Usia\": [34, 23, 29, 45], \"Pekerjaan\": [\"Tukang Parkir\", \"Supir Angkot\", \"Chef\", \"Dokter\"]}\n",
    "df_pandas = pd.DataFrame(data_pandas)\n",
    "\n",
    "# Operasi filtering data berdasarkan usia\n",
    "df_filtered = df_pandas[df_pandas['Usia'] > 30]\n",
    "\n",
    "# Menampilkan DataFrame Filtered\n",
    "display(df_pandas)\n",
    "display(df_filtered)\n",
    "\n",
    "#Kode tersebut membuat sebuah DataFrame Pandas yang berisi data tentang nama, usia, dan pekerjaan beberapa orang. \n",
    "#Kemudian data tersebut difilter untuk menampilkan orang-orang yang usianya di atas 30 tahun.\n",
    "#Lalu kode menampilkan DataFrame asli dan DataFrame yang sudah difilter."
   ]
  },
  {
   "cell_type": "markdown",
   "id": "9da455f1",
   "metadata": {
    "id": "9da455f1"
   },
   "source": [
    "- **Tugas 3**: Modifikasi DataFrame Pandas dengan menambahkan kolom baru dan melakukan operasi seperti filtering data berdasarkan usia."
   ]
  },
  {
   "cell_type": "markdown",
   "id": "c0042b2b",
   "metadata": {
    "id": "c0042b2b"
   },
   "source": [
    "### 5. Praktik Pandas Lanjutan\n",
    "- **Latihan 3**: Penggunaan Pandas untuk operasi lebih kompleks."
   ]
  },
  {
   "cell_type": "code",
   "execution_count": 8,
   "id": "e7a8142f",
   "metadata": {
    "id": "e7a8142f"
   },
   "outputs": [
    {
     "name": "stdout",
     "output_type": "stream",
     "text": [
      "    Nama  Usia      Pekerjaan\n",
      "0    Ali    34  Tukang Parkir\n",
      "1   Budi    23   Supir Angkot\n",
      "2  Citra    29           Chef\n",
      "3   Dina    45         Dokter\n",
      "            Usia\n",
      "count   4.000000\n",
      "mean   32.750000\n",
      "std     9.322911\n",
      "min    23.000000\n",
      "25%    27.500000\n",
      "50%    31.500000\n",
      "75%    36.750000\n",
      "max    45.000000\n"
     ]
    },
    {
     "name": "stderr",
     "output_type": "stream",
     "text": [
      "Matplotlib is building the font cache; this may take a moment.\n"
     ]
    },
    {
     "data": {
      "image/png": "[encoded data removed]",
      "text/plain": [
       "<Figure size 640x480 with 1 Axes>"
      ]
     },
     "metadata": {},
     "output_type": "display_data"
    }
   ],
   "source": [
    "import pandas as pd\n",
    "\n",
    "# Membuat DataFrame Pandas\n",
    "data_pandas = {\"Nama\": [\"Ali\", \"Budi\", \"Citra\", \"Dina\"], \"Usia\": [34, 23, 29, 45]}\n",
    "df_pandas = pd.DataFrame(data_pandas)\n",
    "\n",
    "# Membuat DataFrame kedua\n",
    "data_pandas_2 = {\"Nama\": [\"Ali\", \"Budi\", \"Citra\", \"Dina\"], \"Pekerjaan\": [\"Tukang Parkir\", \"Supir Angkot\", \"Chef\", \"Dokter\"]}\n",
    "df_pandas_2 = pd.DataFrame(data_pandas_2)\n",
    "\n",
    "# Join antara dua DataFrame\n",
    "df_joined = pd.merge(df_pandas, df_pandas_2, on=\"Nama\")\n",
    "print(df_joined)\n",
    "\n",
    "# Menghitung statistik deskriptif\n",
    "print(df_pandas.describe())\n",
    "\n",
    "# Plotting Data\n",
    "import matplotlib.pyplot as plt\n",
    "df_pandas['Usia'].plot(kind='bar')\n",
    "plt.show()\n",
    "\n",
    "#Kode tersebut membuat dua DataFrame Pandas, yang pertama berisi nama dan usia, dan yang kedua berisi nama serta pekerjaan. \n",
    "#Kedua DataFrame digabungkan berdasarkan kolom \"Nama\" untuk menghasilkan DataFrame yang berisi informasi lengkap tentang nama, usia, dan pekerjaan. \n",
    "#Kode menghitung statistik dari DataFrame pertama untuk melihat ringkasan statistik usia. \n",
    "#Kode membuat grafik batang usia dari DataFrame pertama untuk visualisasi data."
   ]
  },
  {
   "cell_type": "code",
   "execution_count": 10,
   "id": "71f14113-48d0-40ce-b3dc-e0501a7381d7",
   "metadata": {},
   "outputs": [
    {
     "name": "stdout",
     "output_type": "stream",
     "text": [
      "DataFrame yang digabungkan:\n",
      "    Nama  Usia      Pekerjaan\n",
      "0    Ali    34  Tukang Parkir\n",
      "1   Budi    23   Supir Angkot\n",
      "2  Citra    29           Chef\n",
      "3   Dina    45         Dokter\n",
      "\n",
      "Statistik Deskriptif:\n",
      "            Usia\n",
      "count   4.000000\n",
      "mean   32.750000\n",
      "std     9.322911\n",
      "min    23.000000\n",
      "25%    27.500000\n",
      "50%    31.500000\n",
      "75%    36.750000\n",
      "max    45.000000\n"
     ]
    },
    {
     "data": {
      "image/png": "[encoded data removed]",
      "text/plain": [
       "<Figure size 800x600 with 1 Axes>"
      ]
     },
     "metadata": {},
     "output_type": "display_data"
    }
   ],
   "source": [
    "import pandas as pd\n",
    "import matplotlib.pyplot as plt\n",
    "\n",
    "# Membuat DataFrame Pandas pertama\n",
    "data_pandas = {\"Nama\": [\"Ali\", \"Budi\", \"Citra\", \"Dina\"], \"Usia\": [34, 23, 29, 45]}\n",
    "df_pandas = pd.DataFrame(data_pandas)\n",
    "\n",
    "# Membuat DataFrame Pandas kedua\n",
    "data_pandas_2 = {\"Nama\": [\"Ali\", \"Budi\", \"Citra\", \"Dina\"], \"Pekerjaan\": [\"Tukang Parkir\", \"Supir Angkot\", \"Chef\", \"Dokter\"]}\n",
    "df_pandas_2 = pd.DataFrame(data_pandas_2)\n",
    "\n",
    "# Menggabungkan dua DataFrame berdasarkan kolom 'Nama'\n",
    "df_joined = pd.merge(df_pandas, df_pandas_2, on=\"Nama\")\n",
    "\n",
    "# Menampilkan DataFrame yang digabungkan\n",
    "print(\"DataFrame yang digabungkan:\")\n",
    "print(df_joined)\n",
    "\n",
    "# Menghitung statistik deskriptif dari DataFrame pertama\n",
    "print(\"\\nStatistik Deskriptif:\")\n",
    "print(df_pandas.describe())\n",
    "\n",
    "# Visualisasi data\n",
    "plt.figure(figsize=(8, 6))  # Mengatur ukuran figure\n",
    "df_pandas['Usia'].plot(kind='bar', color='skyblue', edgecolor='black')\n",
    "plt.title('Bar Plot Usia')  # Menambahkan judul\n",
    "plt.xlabel('Indeks')  # Label sumbu x\n",
    "plt.ylabel('Usia')  # Label sumbu y\n",
    "plt.xticks(ticks=range(len(df_pandas)), labels=df_pandas['Nama'], rotation=0)  # Menambahkan nama pada sumbu x\n",
    "plt.grid(axis='y', linestyle='--', alpha=0.7)  # Menambahkan grid horizontal\n",
    "plt.show()\n",
    "\n",
    "#Kode tersebut membuat dua DataFrame Pandas: satu berisi nama dan usia, dan satu lagi berisi nama serta pekerjaan. \n",
    "#Kedua DataFrame digabungkan berdasarkan kolom \"Nama\" untuk menghasilkan DataFrame yang menyatukan data usia dan pekerjaan. \n",
    "#Kode kemudian menampilkan DataFrame hasil penggabungan dan menghitung statistik dari DataFrame pertama untuk melihat ringkasan statistik usia. \n",
    "#Kode memvisualisasikan usia menggunakan grafik batang dengan warna biru muda dan garis tepi hitam. \n",
    "#Grafik ini menampilkan usia dengan nama-nama sebagai label pada sumbu x dan menambahkan grid horizontal."
   ]
  },
  {
   "cell_type": "markdown",
   "id": "884ed75d",
   "metadata": {
    "id": "884ed75d"
   },
   "source": [
    "- **Tugas 4**: Lakukan penggabungan DataFrame dan visualisasikan data dengan Pandas."
   ]
  },
  {
   "cell_type": "markdown",
   "id": "bf671ba3",
   "metadata": {
    "id": "bf671ba3"
   },
   "source": [
    "### 5. Menggabungkan PySpark dan Pandas\n",
    "- **Latihan 4: Mengonversi DataFrame antara PySpark dan Pandas**\n",
    "  Praktik untuk convert DataFrame dari PySpark ke Pandas dan sebaliknya:\n"
   ]
  },
  {
   "cell_type": "code",
   "execution_count": 11,
   "id": "337e123f",
   "metadata": {
    "id": "337e123f"
   },
   "outputs": [
    {
     "name": "stdout",
     "output_type": "stream",
     "text": [
      "+-----+----+\n",
      "| Nama|Usia|\n",
      "+-----+----+\n",
      "|  Ali|  34|\n",
      "| Budi|  23|\n",
      "|Citra|  29|\n",
      "| Dina|  45|\n",
      "+-----+----+\n",
      "\n"
     ]
    },
    {
     "data": {
      "text/plain": [
       "(    Nama  Usia\n",
       " 0    Ali    34\n",
       " 1   Budi    23\n",
       " 2  Citra    29\n",
       " 3   Dina    45,\n",
       " None)"
      ]
     },
     "execution_count": 11,
     "metadata": {},
     "output_type": "execute_result"
    }
   ],
   "source": [
    "# Mengonversi DataFrame dari PySpark ke Pandas\n",
    "df_pandas_from_spark = df.toPandas()\n",
    "\n",
    "# Mengonversi DataFrame dari Pandas ke PySpark\n",
    "df_spark_from_pandas = spark.createDataFrame(df_pandas)\n",
    "\n",
    "# Menampilkan DataFrame hasil konversi\n",
    "df_pandas_from_spark, df_spark_from_pandas.show()\n",
    "\n",
    "#Kode tersebut mengonversi DataFrame dari PySpark ke Pandas dan sebaliknya, dari Pandas ke PySpark. \n",
    "#Setelah itu, kode menampilkan kedua DataFrame hasil konversi untuk memastikan bahwa data telah dipindahkan dengan benar antara kedua format tersebut."
   ]
  },
  {
   "cell_type": "code",
   "execution_count": 12,
   "id": "2776e4d4-c20a-4fa3-ab16-1e7be5559674",
   "metadata": {},
   "outputs": [
    {
     "name": "stdout",
     "output_type": "stream",
     "text": [
      "DataFrame Pandas dari PySpark:\n",
      "    Nama  Usia\n",
      "0    Ali    34\n",
      "1   Budi    23\n",
      "2  Citra    29\n",
      "3   Dina    45\n",
      "\n",
      "DataFrame PySpark dari Pandas:\n",
      "+-----+----+\n",
      "| Nama|Usia|\n",
      "+-----+----+\n",
      "|  Ali|  34|\n",
      "| Budi|  23|\n",
      "|Citra|  29|\n",
      "| Dina|  45|\n",
      "+-----+----+\n",
      "\n",
      "\n",
      "Rata-rata Usia (PySpark): 32.75\n",
      "Rata-rata Usia (Pandas): 32.75\n"
     ]
    }
   ],
   "source": [
    "from pyspark.sql import SparkSession\n",
    "from pyspark.sql.functions import avg\n",
    "\n",
    "# Membuat SparkSession\n",
    "spark = SparkSession.builder.appName(\"DataFrame Conversion\").getOrCreate()\n",
    "\n",
    "# DataFrame PySpark (Contoh)\n",
    "data_spark = [(\"Ali\", 34), (\"Budi\", 23), (\"Citra\", 29), (\"Dina\", 45)]\n",
    "columns = [\"Nama\", \"Usia\"]\n",
    "df_spark1 = spark.createDataFrame(data_spark, columns)\n",
    "\n",
    "# DataFrame Pandas (Contoh)\n",
    "import pandas as pd\n",
    "data_pandas = {\"Nama\": [\"Ali\", \"Budi\", \"Citra\", \"Dina\"], \"Usia\": [34, 23, 29, 45]}\n",
    "df_pandas = pd.DataFrame(data_pandas)\n",
    "\n",
    "# Mengonversi DataFrame dari PySpark ke Pandas\n",
    "df_pandas_from_spark = df_spark1.toPandas()\n",
    "\n",
    "# Mengonversi DataFrame dari Pandas ke PySpark\n",
    "df_spark_from_pandas = spark.createDataFrame(df_pandas)\n",
    "\n",
    "# Menggabungkan DataFrame PySpark\n",
    "df_combined_spark = df_spark1.union(df_spark_from_pandas)\n",
    "\n",
    "# Menampilkan DataFrame hasil konversi\n",
    "print(\"DataFrame Pandas dari PySpark:\")\n",
    "print(df_pandas_from_spark)\n",
    "\n",
    "print(\"\\nDataFrame PySpark dari Pandas:\")\n",
    "df_spark_from_pandas.show()\n",
    "\n",
    "# Menghitung rata-rata usia dari DataFrame PySpark\n",
    "average_age = df_combined_spark.select(avg(\"Usia\")).collect()[0][0]\n",
    "print(f\"\\nRata-rata Usia (PySpark): {average_age}\")\n",
    "\n",
    "# Menghitung rata-rata usia dari DataFrame Pandas\n",
    "df_pandas_combined = df_combined_spark.toPandas()\n",
    "average_age_pandas = df_pandas_combined[\"Usia\"].mean()\n",
    "print(f\"Rata-rata Usia (Pandas): {average_age_pandas}\")\n",
    "\n",
    "#Kode tersebut memulai sesi Spark dan membuat DataFrame PySpark serta DataFrame Pandas yang berisi data nama dan usia. \n",
    "#DataFrame PySpark kemudian dikonversi menjadi DataFrame Pandas, dan sebaliknya, DataFrame Pandas dikonversi menjadi DataFrame PySpark. \n",
    "#Setelah itu, kedua DataFrame PySpark digabungkan menjadi satu. \n",
    "#Rata-rata usia dihitung dari DataFrame gabungan menggunakan PySpark dan juga dihitung menggunakan Pandas setelah dikonversi kembali. \n",
    "#Hasil rata-rata usia ditampilkan untuk kedua versi, baik di PySpark maupun di Pandas.\n"
   ]
  },
  {
   "cell_type": "markdown",
   "id": "2cba4e5c",
   "metadata": {
    "id": "2cba4e5c"
   },
   "source": [
    "- **Tugas 5**: Gunakan metode ini untuk menggabungkan data yang Anda buat di PySpark dengan data dari Pandas, kemudian lakukan analisis sederhana seperti menghitung rata-rata usia."
   ]
  },
  {
   "cell_type": "markdown",
   "id": "afdba6be",
   "metadata": {
    "id": "afdba6be"
   },
   "source": [
    "### 6. Konversi Data antara PySpark dan Pandas"
   ]
  },
  {
   "cell_type": "code",
   "execution_count": 13,
   "id": "f863defc",
   "metadata": {
    "id": "f863defc"
   },
   "outputs": [
    {
     "name": "stdout",
     "output_type": "stream",
     "text": [
      "+-----+----+\n",
      "| Nama|Usia|\n",
      "+-----+----+\n",
      "|  Ali|  34|\n",
      "| Budi|  23|\n",
      "|Citra|  29|\n",
      "| Dina|  45|\n",
      "+-----+----+\n",
      "\n"
     ]
    },
    {
     "data": {
      "text/plain": [
       "(    Nama  Usia\n",
       " 0    Ali    34\n",
       " 1   Budi    23\n",
       " 2  Citra    29\n",
       " 3   Dina    45,\n",
       " None)"
      ]
     },
     "execution_count": 13,
     "metadata": {},
     "output_type": "execute_result"
    }
   ],
   "source": [
    "# Mengonversi DataFrame dari PySpark ke Pandas\n",
    "df_pandas_from_spark = df.toPandas()\n",
    "\n",
    "# Mengonversi DataFrame dari Pandas ke PySpark\n",
    "df_spark_from_pandas = spark.createDataFrame(df_pandas)\n",
    "\n",
    "# Menampilkan DataFrame hasil konversi\n",
    "df_pandas_from_spark, df_spark_from_pandas.show()\n",
    "\n",
    "#Kode tersebut mengonversi DataFrame dari PySpark ke Pandas dan juga sebaliknya, dari Pandas ke PySpark. \n",
    "#Setelah itu, kode menampilkan DataFrame hasil konversi untuk memastikan bahwa data telah dipindahkan dengan benar antara kedua format tersebut.\n"
   ]
  },
  {
   "cell_type": "code",
   "execution_count": 14,
   "id": "8d4847a1-08cd-4e29-bd43-985f83132fba",
   "metadata": {},
   "outputs": [
    {
     "name": "stdout",
     "output_type": "stream",
     "text": [
      "DataFrame Pandas dari PySpark:\n",
      "    Nama  Usia\n",
      "0    Ali    34\n",
      "1   Budi    23\n",
      "2  Citra    29\n",
      "3   Dina    45\n",
      "\n",
      "DataFrame PySpark dari Pandas:\n",
      "+----+----+\n",
      "|Nama|Usia|\n",
      "+----+----+\n",
      "| Edo|  31|\n",
      "|Fani|  22|\n",
      "|Gina|  40|\n",
      "+----+----+\n",
      "\n",
      "\n",
      "DataFrame PySpark Gabungan:\n",
      "+-----+----+\n",
      "| Nama|Usia|\n",
      "+-----+----+\n",
      "|  Ali|  34|\n",
      "| Budi|  23|\n",
      "|Citra|  29|\n",
      "| Dina|  45|\n",
      "|  Edo|  31|\n",
      "| Fani|  22|\n",
      "| Gina|  40|\n",
      "+-----+----+\n",
      "\n",
      "\n",
      "Nilai Maksimum Usia: 45\n"
     ]
    }
   ],
   "source": [
    "from pyspark.sql import SparkSession\n",
    "from pyspark.sql.functions import max\n",
    "\n",
    "# Membuat SparkSession\n",
    "spark = SparkSession.builder.appName(\"DataFrame Conversion\").getOrCreate()\n",
    "\n",
    "# Contoh DataFrame PySpark\n",
    "data_spark = [(\"Ali\", 34), (\"Budi\", 23), (\"Citra\", 29), (\"Dina\", 45)]\n",
    "columns = [\"Nama\", \"Usia\"]\n",
    "df_spark = spark.createDataFrame(data_spark, columns)\n",
    "\n",
    "# Contoh DataFrame Pandas\n",
    "import pandas as pd\n",
    "data_pandas = {\"Nama\": [\"Edo\", \"Fani\", \"Gina\"], \"Usia\": [31, 22, 40]}\n",
    "df_pandas = pd.DataFrame(data_pandas)\n",
    "\n",
    "# Mengonversi DataFrame dari PySpark ke Pandas\n",
    "df_pandas_from_spark = df_spark.toPandas()\n",
    "\n",
    "# Mengonversi DataFrame dari Pandas ke PySpark\n",
    "df_spark_from_pandas = spark.createDataFrame(df_pandas)\n",
    "\n",
    "# Menggabungkan DataFrame PySpark\n",
    "df_combined_spark = df_spark.union(df_spark_from_pandas)\n",
    "\n",
    "# Menampilkan DataFrame hasil konversi\n",
    "print(\"DataFrame Pandas dari PySpark:\")\n",
    "print(df_pandas_from_spark)\n",
    "\n",
    "print(\"\\nDataFrame PySpark dari Pandas:\")\n",
    "df_spark_from_pandas.show()\n",
    "\n",
    "print(\"\\nDataFrame PySpark Gabungan:\")\n",
    "df_combined_spark.show()\n",
    "\n",
    "# Menghitung nilai maksimum usia dari DataFrame PySpark gabungan\n",
    "max_age = df_combined_spark.select(max(\"Usia\")).collect()[0][0]\n",
    "print(f\"\\nNilai Maksimum Usia: {max_age}\")\n",
    "\n",
    "#Kode tersebut membuat dua DataFrame: satu menggunakan PySpark dengan data nama dan usia, dan satu lagi menggunakan Pandas dengan data serupa. \n",
    "#DataFrame PySpark dikonversi menjadi DataFrame Pandas, dan sebaliknya, DataFrame Pandas dikonversi menjadi DataFrame PySpark. \n",
    "#Kedua DataFrame PySpark kemudian digabungkan menjadi satu DataFrame gabungan. \n",
    "#Hasil gabungan ditampilkan untuk melihat data dari kedua sumber tersebut. \n",
    "#Terakhir, kode menghitung dan menampilkan nilai maksimum usia dari DataFrame gabungan menggunakan PySpark.\n"
   ]
  },
  {
   "cell_type": "markdown",
   "id": "65adbe71",
   "metadata": {
    "id": "65adbe71"
   },
   "source": [
    "- **Tugas 6**: Gabungkan data dari PySpark dan Pandas, lalu lakukan operasi statistik seperti menghitung nilai maksimum usia."
   ]
  }
 ],
 "metadata": {
  "colab": {
   "provenance": []
  },
  "kernelspec": {
   "display_name": "Python 3 (ipykernel)",
   "language": "python",
   "name": "python3"
  },
  "language_info": {
   "codemirror_mode": {
    "name": "ipython",
    "version": 3
   },
   "file_extension": ".py",
   "mimetype": "text/x-python",
   "name": "python",
   "nbconvert_exporter": "python",
   "pygments_lexer": "ipython3",
   "version": "3.11.9"
  }
 },
 "nbformat": 4,
 "nbformat_minor": 5
}
